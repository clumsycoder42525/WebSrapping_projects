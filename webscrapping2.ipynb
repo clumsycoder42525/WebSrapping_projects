{
  "nbformat": 4,
  "nbformat_minor": 0,
  "metadata": {
    "colab": {
      "provenance": [],
      "authorship_tag": "ABX9TyOi1XIsjRGKwMmtzZA6ioZ8",
      "include_colab_link": true
    },
    "kernelspec": {
      "name": "python3",
      "display_name": "Python 3"
    },
    "language_info": {
      "name": "python"
    }
  },
  "cells": [
    {
      "cell_type": "markdown",
      "metadata": {
        "id": "view-in-github",
        "colab_type": "text"
      },
      "source": [
        "<a href=\"https://colab.research.google.com/github/clumsycoder42525/WebSrapping_projects/blob/main/webscrapping2.ipynb\" target=\"_parent\"><img src=\"https://colab.research.google.com/assets/colab-badge.svg\" alt=\"Open In Colab\"/></a>"
      ]
    },
    {
      "cell_type": "code",
      "execution_count": 1,
      "metadata": {
        "id": "PTaIEl-Qx95V"
      },
      "outputs": [],
      "source": [
        "import requests\n",
        "from bs4 import BeautifulSoup\n",
        "import pandas as pd"
      ]
    },
    {
      "cell_type": "code",
      "source": [
        "url = \"https://www.flipkart.com/mobile-phones-store?fm=neo%2Fmerchandising&iid=M_e2b67dbe-b1d5-42cf-a946-4298cd7746b5_1_372UD5BXDFYS_MC.ZRQ4DKH28K8J&otracker=hp_rich_navigation_2_1.navigationCard.RICH_NAVIGATION_Mobiles_ZRQ4DKH28K8J&otracker1=hp_rich_navigation_PINNED_neo%2Fmerchandising_NA_NAV_EXPANDABLE_navigationCard_cc_2_L0_view-all&cid=ZRQ4DKH28K8J\"\n",
        "\n",
        "res = requests.get(url)\n",
        "\n",
        "# Extracting the HTML content\n",
        "html_content = res.text\n",
        "\n",
        "# Parsing the HTML content using BeautifulSoup\n",
        "soup = BeautifulSoup(html_content, \"html.parser\")\n",
        "\n",
        "# Prettifying the HTML content\n",
        "Ht = soup.prettify()\n",
        "print(Ht)\n"
      ],
      "metadata": {
        "id": "2hvqJYBVyEgS"
      },
      "execution_count": null,
      "outputs": []
    },
    {
      "cell_type": "code",
      "source": [
        "name=[]\n",
        "rating=[]\n",
        "price=[]\n",
        "aprice=[]\n",
        "disc=[]"
      ],
      "metadata": {
        "id": "cxwf_4VIyEih"
      },
      "execution_count": null,
      "outputs": []
    },
    {
      "cell_type": "code",
      "source": [
        "for nm in soup.find_all(\"a\",class_=\"wjcEIp\"):\n",
        "    name.append(nm.text)\n",
        "name"
      ],
      "metadata": {
        "id": "kW3YwdoMyEkw"
      },
      "execution_count": null,
      "outputs": []
    },
    {
      "cell_type": "code",
      "source": [
        "for r in soup.find_all(\"div\",class_=\"XQDdHH\"):\n",
        "    rating.append(r.text)\n",
        "rating"
      ],
      "metadata": {
        "id": "TpU1qNksyEnG"
      },
      "execution_count": null,
      "outputs": []
    },
    {
      "cell_type": "code",
      "source": [
        "for p in soup.find_all(\"div\",class_=\"Nx9bqj\"):\n",
        "    price.append(p.text)\n",
        "price"
      ],
      "metadata": {
        "id": "Ncx7_sbWyEpc"
      },
      "execution_count": null,
      "outputs": []
    },
    {
      "cell_type": "code",
      "source": [
        "for ap in soup.find_all(\"div\",class_=\"yRaY8j\"):\n",
        "    aprice.append(ap.text)\n",
        "aprice"
      ],
      "metadata": {
        "id": "11qQldPSyEry"
      },
      "execution_count": null,
      "outputs": []
    },
    {
      "cell_type": "code",
      "source": [
        "for dis in soup.find_all(\"div\",class_=\"UkUFwK\"):\n",
        "    disc.append(dis.text)\n",
        "disc"
      ],
      "metadata": {
        "id": "AkYSQgajyEvH"
      },
      "execution_count": null,
      "outputs": []
    },
    {
      "cell_type": "code",
      "source": [
        "data={\n",
        "    \"Name\":name,\n",
        "    \"Rating\":rating,\n",
        "    \"Price\":price,\n",
        "    \"Actual Price\":aprice,\n",
        "    \"Discount\":disc\n",
        "}"
      ],
      "metadata": {
        "id": "wrWmzNq-yEy_"
      },
      "execution_count": null,
      "outputs": []
    },
    {
      "cell_type": "code",
      "source": [
        "df = pd.DataFrame(data)\n"
      ],
      "metadata": {
        "id": "LYnNKxtCyS_r"
      },
      "execution_count": null,
      "outputs": []
    },
    {
      "cell_type": "code",
      "source": [
        "def val(value):\n",
        "    return (((value.split(\"(\"))[1]).split(\",\")[1])[0:-1]\n",
        "def na(value):\n",
        "    return((value.split(\"(\"))[1]).split(\",\")[0]\n",
        "def ds(value):\n",
        "    return(value.split(\"(\"))[0]\n"
      ],
      "metadata": {
        "id": "mo9ayR83yTCS"
      },
      "execution_count": null,
      "outputs": []
    },
    {
      "cell_type": "code",
      "source": [
        "df[\"Storage\"]=df[\"Name\"].map(val)\n",
        "df[\"Color\"]=df[\"Name\"].map(na)\n",
        "df[\"Name\"]=df[\"Name\"].map(ds)"
      ],
      "metadata": {
        "id": "s6H8rkZqyTE1"
      },
      "execution_count": null,
      "outputs": []
    },
    {
      "cell_type": "code",
      "source": [],
      "metadata": {
        "id": "0abZ_XREyTIe"
      },
      "execution_count": null,
      "outputs": []
    }
  ]
}